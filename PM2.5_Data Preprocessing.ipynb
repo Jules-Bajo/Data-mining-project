{
 "cells": [
  {
   "cell_type": "markdown",
   "metadata": {},
   "source": [
    "## PM2.5 Data Prepocessing and Exploration \n",
    "\n",
    "In this Side project I want to prepocess and get some basic information about Air quality data via some tool. The project will be based on the tasks below.The dataset can be found https://sites.google.com/site/cclljj/dataset-airbox. If any one is interest to explore more insight of Air quality data  \n",
    "\n",
    "### 1. Preprocessing Task\n",
    "       A. Discovering of bad data and how to fix/remove it\n",
    "           i. Remove the anomal records. For, instance '0' attributes of PM2.5\n",
    "           ii. Remove Sensors(Devices) with few data or long time gap\n",
    "       \n",
    "       B. Data Aliggnment\n",
    "            i. We want to aligned-time data. However, the sensors don't have \n",
    "               a static record time. To overcome this challenge, we will can use\n",
    "               linear interpolation to fit our data.\n",
    "               \n",
    "       C. Save New dataset to a file\n",
    "       \n",
    "       \n",
    "### 2. Observation(Visualization)Task\n",
    "       A. To compare different sensors in the same time interval. \n",
    "          For instance, Sensor 1 on 5/9 vs Sensor 2 on 5/9\n",
    "          \n",
    "       B. Plotting of all Sensors on the map and describe the dataset based on the location\n",
    "          using this visualization tool(https://www.gpsvisualizer.com/map_input?form=data)\n",
    "       \n",
    "       C. Find some interesting observation\n",
    "       \n",
    "### 3. QueryTask\n",
    "        A. How Many sensors are there in the the dataset?\n",
    "        \n",
    "        B. Which sensor recorded the highest temperature:\n",
    "            i.  In March?\n",
    "            ii. What is the Temperature?\n",
    "            iii. Where is the sensor located?\n",
    "            \n",
    "        C. What were the maximal PM2.5 values of each sensors on 3/5?\n",
    "        \n",
    "        D. Find some interesting queries.\n",
    "            \n",
    "### 3. Time Series Data Comparsion Task\n",
    "        Try to consider two sensor to compare the following:\n",
    "        \n",
    "        For, instance considering. \n",
    "             1. Q: Sequence from Sensor 1.\n",
    "             2. C: Sequence from Sensor 2.\n",
    "             3. Distance(Q,C): Distance between Q & C.\n",
    "             \n",
    "        A. Offset Translation.\n",
    "           Q = Q - mean(Q), C = C - Mean(C).\n",
    "           \n",
    "        B. Amplitude Scaling.\n",
    "            Q = ( Q - mean(Q))/std(Q), C = (C - Mean(C))/std(C).\n",
    "        \n",
    "        C. Linear Trend Removal.\n",
    "           Q = detrend(Q), C = detrend(C).\n",
    "           \n",
    "        D. Noise Removal.\n",
    "           Q = smooth(Q), C = smooth(C).\n",
    "           \n",
    "        E. Calculate Distance(Q,C) at each step, and compare the difference between\n",
    "           original data and transformed it.\n",
    "           \n"
   ]
  },
  {
   "cell_type": "markdown",
   "metadata": {},
   "source": [
    "## Tasks 1.\n",
    "   Data Prepocessing\n"
   ]
  },
  {
   "cell_type": "code",
   "execution_count": 2,
   "metadata": {},
   "outputs": [],
   "source": [
    "import pandas as pd\n",
    "import numpy as np\n",
    "import matplotlib.pyplot as plt\n",
    "import numpy as np\n",
    "\n",
    "%matplotlib inline"
   ]
  },
  {
   "cell_type": "markdown",
   "metadata": {},
   "source": [
    "### Discovering of bad data and how to fix/remove it?"
   ]
  },
  {
   "cell_type": "code",
   "execution_count": 3,
   "metadata": {
    "collapsed": false,
    "jupyter": {
     "outputs_hidden": false
    }
   },
   "outputs": [
    {
     "data": {
      "text/html": [
       "<div>\n",
       "<style scoped>\n",
       "    .dataframe tbody tr th:only-of-type {\n",
       "        vertical-align: middle;\n",
       "    }\n",
       "\n",
       "    .dataframe tbody tr th {\n",
       "        vertical-align: top;\n",
       "    }\n",
       "\n",
       "    .dataframe thead th {\n",
       "        text-align: right;\n",
       "    }\n",
       "</style>\n",
       "<table border=\"1\" class=\"dataframe\">\n",
       "  <thead>\n",
       "    <tr style=\"text-align: right;\">\n",
       "      <th></th>\n",
       "      <th>Date</th>\n",
       "      <th>Time</th>\n",
       "      <th>device_id</th>\n",
       "      <th>PM2.5</th>\n",
       "      <th>PM10</th>\n",
       "      <th>PM1</th>\n",
       "      <th>Temperature</th>\n",
       "      <th>Humidity</th>\n",
       "      <th>lat</th>\n",
       "      <th>lon</th>\n",
       "    </tr>\n",
       "  </thead>\n",
       "  <tbody>\n",
       "    <tr>\n",
       "      <th>0</th>\n",
       "      <td>2017-03-01</td>\n",
       "      <td>08:00:00</td>\n",
       "      <td>74DA388FF5F6</td>\n",
       "      <td>41</td>\n",
       "      <td>48</td>\n",
       "      <td>28</td>\n",
       "      <td>20.00</td>\n",
       "      <td>89</td>\n",
       "      <td>25.059</td>\n",
       "      <td>121.499</td>\n",
       "    </tr>\n",
       "    <tr>\n",
       "      <th>1</th>\n",
       "      <td>2017-03-01</td>\n",
       "      <td>08:00:01</td>\n",
       "      <td>28C2DDDD4781</td>\n",
       "      <td>41</td>\n",
       "      <td>0</td>\n",
       "      <td>0</td>\n",
       "      <td>23.37</td>\n",
       "      <td>73</td>\n",
       "      <td>23.483</td>\n",
       "      <td>120.443</td>\n",
       "    </tr>\n",
       "    <tr>\n",
       "      <th>2</th>\n",
       "      <td>2017-03-01</td>\n",
       "      <td>08:00:01</td>\n",
       "      <td>74DA3895E132</td>\n",
       "      <td>52</td>\n",
       "      <td>66</td>\n",
       "      <td>35</td>\n",
       "      <td>25.50</td>\n",
       "      <td>60</td>\n",
       "      <td>22.624</td>\n",
       "      <td>120.356</td>\n",
       "    </tr>\n",
       "    <tr>\n",
       "      <th>3</th>\n",
       "      <td>2017-03-01</td>\n",
       "      <td>08:00:02</td>\n",
       "      <td>74DA3895C590</td>\n",
       "      <td>39</td>\n",
       "      <td>44</td>\n",
       "      <td>26</td>\n",
       "      <td>20.25</td>\n",
       "      <td>79</td>\n",
       "      <td>24.252</td>\n",
       "      <td>120.739</td>\n",
       "    </tr>\n",
       "    <tr>\n",
       "      <th>4</th>\n",
       "      <td>2017-03-01</td>\n",
       "      <td>08:00:02</td>\n",
       "      <td>74DA3895C34E</td>\n",
       "      <td>42</td>\n",
       "      <td>56</td>\n",
       "      <td>30</td>\n",
       "      <td>21.12</td>\n",
       "      <td>78</td>\n",
       "      <td>24.196</td>\n",
       "      <td>120.748</td>\n",
       "    </tr>\n",
       "  </tbody>\n",
       "</table>\n",
       "</div>"
      ],
      "text/plain": [
       "         Date      Time     device_id  PM2.5  PM10  PM1  Temperature  \\\n",
       "0  2017-03-01  08:00:00  74DA388FF5F6     41    48   28        20.00   \n",
       "1  2017-03-01  08:00:01  28C2DDDD4781     41     0    0        23.37   \n",
       "2  2017-03-01  08:00:01  74DA3895E132     52    66   35        25.50   \n",
       "3  2017-03-01  08:00:02  74DA3895C590     39    44   26        20.25   \n",
       "4  2017-03-01  08:00:02  74DA3895C34E     42    56   30        21.12   \n",
       "\n",
       "   Humidity     lat      lon  \n",
       "0        89  25.059  121.499  \n",
       "1        73  23.483  120.443  \n",
       "2        60  22.624  120.356  \n",
       "3        79  24.252  120.739  \n",
       "4        78  24.196  120.748  "
      ]
     },
     "execution_count": 3,
     "metadata": {},
     "output_type": "execute_result"
    }
   ],
   "source": [
    "df = pd.read_csv(\"201703_Taiwan.csv\")\n",
    "\n",
    "df.head()\n"
   ]
  },
  {
   "cell_type": "code",
   "execution_count": 4,
   "metadata": {},
   "outputs": [
    {
     "name": "stdout",
     "output_type": "stream",
     "text": [
      "Number of data point before Dropping '0' and 'NaN' values = 4191423\n"
     ]
    }
   ],
   "source": [
    "print(\"Number of data point before Dropping '0' and 'NaN' values =\",len(df))"
   ]
  },
  {
   "cell_type": "markdown",
   "metadata": {},
   "source": [
    "### How to remove the anomal records. For, instance '0' attributes of PM2.5?\n",
    " To remove the anomal attribute we are going to Drop all the zero '0' or  'NaN' values in the dataset."
   ]
  },
  {
   "cell_type": "code",
   "execution_count": 5,
   "metadata": {
    "collapsed": false,
    "jupyter": {
     "outputs_hidden": false
    }
   },
   "outputs": [
    {
     "name": "stdout",
     "output_type": "stream",
     "text": [
      "Number of data point after Dropping '0' and 'NaN' values = 3341162\n",
      "=======================================================================\n"
     ]
    },
    {
     "data": {
      "text/html": [
       "<div>\n",
       "<style scoped>\n",
       "    .dataframe tbody tr th:only-of-type {\n",
       "        vertical-align: middle;\n",
       "    }\n",
       "\n",
       "    .dataframe tbody tr th {\n",
       "        vertical-align: top;\n",
       "    }\n",
       "\n",
       "    .dataframe thead th {\n",
       "        text-align: right;\n",
       "    }\n",
       "</style>\n",
       "<table border=\"1\" class=\"dataframe\">\n",
       "  <thead>\n",
       "    <tr style=\"text-align: right;\">\n",
       "      <th></th>\n",
       "      <th>Date</th>\n",
       "      <th>Time</th>\n",
       "      <th>device_id</th>\n",
       "      <th>PM2.5</th>\n",
       "      <th>PM10</th>\n",
       "      <th>PM1</th>\n",
       "      <th>Temperature</th>\n",
       "      <th>Humidity</th>\n",
       "      <th>lat</th>\n",
       "      <th>lon</th>\n",
       "    </tr>\n",
       "  </thead>\n",
       "  <tbody>\n",
       "    <tr>\n",
       "      <th>0</th>\n",
       "      <td>2017-03-01</td>\n",
       "      <td>08:00:00</td>\n",
       "      <td>74DA388FF5F6</td>\n",
       "      <td>41</td>\n",
       "      <td>48</td>\n",
       "      <td>28</td>\n",
       "      <td>20.00</td>\n",
       "      <td>89</td>\n",
       "      <td>25.059</td>\n",
       "      <td>121.499</td>\n",
       "    </tr>\n",
       "    <tr>\n",
       "      <th>2</th>\n",
       "      <td>2017-03-01</td>\n",
       "      <td>08:00:01</td>\n",
       "      <td>74DA3895E132</td>\n",
       "      <td>52</td>\n",
       "      <td>66</td>\n",
       "      <td>35</td>\n",
       "      <td>25.50</td>\n",
       "      <td>60</td>\n",
       "      <td>22.624</td>\n",
       "      <td>120.356</td>\n",
       "    </tr>\n",
       "    <tr>\n",
       "      <th>3</th>\n",
       "      <td>2017-03-01</td>\n",
       "      <td>08:00:02</td>\n",
       "      <td>74DA3895C590</td>\n",
       "      <td>39</td>\n",
       "      <td>44</td>\n",
       "      <td>26</td>\n",
       "      <td>20.25</td>\n",
       "      <td>79</td>\n",
       "      <td>24.252</td>\n",
       "      <td>120.739</td>\n",
       "    </tr>\n",
       "    <tr>\n",
       "      <th>4</th>\n",
       "      <td>2017-03-01</td>\n",
       "      <td>08:00:02</td>\n",
       "      <td>74DA3895C34E</td>\n",
       "      <td>42</td>\n",
       "      <td>56</td>\n",
       "      <td>30</td>\n",
       "      <td>21.12</td>\n",
       "      <td>78</td>\n",
       "      <td>24.196</td>\n",
       "      <td>120.748</td>\n",
       "    </tr>\n",
       "    <tr>\n",
       "      <th>5</th>\n",
       "      <td>2017-03-01</td>\n",
       "      <td>08:00:02</td>\n",
       "      <td>74DA3895E12A</td>\n",
       "      <td>74</td>\n",
       "      <td>92</td>\n",
       "      <td>54</td>\n",
       "      <td>21.00</td>\n",
       "      <td>83</td>\n",
       "      <td>22.633</td>\n",
       "      <td>120.359</td>\n",
       "    </tr>\n",
       "  </tbody>\n",
       "</table>\n",
       "</div>"
      ],
      "text/plain": [
       "         Date      Time     device_id  PM2.5  PM10  PM1  Temperature  \\\n",
       "0  2017-03-01  08:00:00  74DA388FF5F6     41    48   28        20.00   \n",
       "2  2017-03-01  08:00:01  74DA3895E132     52    66   35        25.50   \n",
       "3  2017-03-01  08:00:02  74DA3895C590     39    44   26        20.25   \n",
       "4  2017-03-01  08:00:02  74DA3895C34E     42    56   30        21.12   \n",
       "5  2017-03-01  08:00:02  74DA3895E12A     74    92   54        21.00   \n",
       "\n",
       "   Humidity     lat      lon  \n",
       "0        89  25.059  121.499  \n",
       "2        60  22.624  120.356  \n",
       "3        79  24.252  120.739  \n",
       "4        78  24.196  120.748  \n",
       "5        83  22.633  120.359  "
      ]
     },
     "execution_count": 5,
     "metadata": {},
     "output_type": "execute_result"
    }
   ],
   "source": [
    "droplist=[]\n",
    "for attr in df.columns:\n",
    "    for index, value in enumerate(df[attr]):\n",
    "        if value == 0:\n",
    "            droplist.append(index)            \n",
    "df_n0 = df.drop(df.index[droplist])\n",
    "\n",
    "df_n0 = df_n0.dropna(axis=0, how='any')\n",
    "#df_n0.head()\n",
    "print(\"Number of data point after Dropping '0' and 'NaN' values =\",len(df_n0))\n",
    "\n",
    "print(\"=======================================================================\")\n",
    "\n",
    "df_n0.head()"
   ]
  },
  {
   "cell_type": "markdown",
   "metadata": {},
   "source": [
    "\n",
    "\n",
    "### How to remove Sensors(Devices) with few data or long time gap?\n",
    "Firstly we will plot a histogram and group our data by 'Device_ID' to know from what point to what ponint is having less datcount so that we can know where to set out threshold in filtering sensors with few data point. \n",
    "\n",
    " "
   ]
  },
  {
   "cell_type": "code",
   "execution_count": 6,
   "metadata": {},
   "outputs": [
    {
     "data": {
      "image/png": "[encoded data removed]",
      "text/plain": [
       "<Figure size 432x288 with 1 Axes>"
      ]
     },
     "metadata": {},
     "output_type": "display_data"
    },
    {
     "name": "stdout",
     "output_type": "stream",
     "text": [
      "=======================================================================\n",
      "Base on the histogram we can observe that their is a less datacount from '0' To '2000' counts therefore, the threshold can be set to '> 2000' for the firt use case i.e. Device with few data point \n"
     ]
    }
   ],
   "source": [
    "device_histagram_list = []\n",
    "for device_id, df_device_id_region in df_n0.groupby(\"device_id\"):\n",
    "    device_histagram_list.append(df_device_id_region.shape[0])\n",
    "    \n",
    "\n",
    "plt.hist(device_histagram_list)\n",
    "plt.title(\"Device Datacount Histogram\")\n",
    "plt.xlabel(\"Datacount\")\n",
    "plt.ylabel(\"Number\")        \n",
    "\n",
    "plt.show()\n",
    "\n",
    "print(\"=======================================================================\")\n",
    "\n",
    "print(\"Base on the histogram we can observe that their is a less datacount from '0' To '2000' counts therefore, the threshold can be set to '> 2000' for the firt use case i.e. Device with few data point \"  )\n",
    "\n",
    "\n"
   ]
  },
  {
   "cell_type": "markdown",
   "metadata": {},
   "source": [
    "### Removing Sensors(Devices) with few data when threshold is set to \"> 2000\""
   ]
  },
  {
   "cell_type": "code",
   "execution_count": 7,
   "metadata": {
    "collapsed": false,
    "jupyter": {
     "outputs_hidden": false
    }
   },
   "outputs": [
    {
     "name": "stdout",
     "output_type": "stream",
     "text": [
      "=======================================================================\n",
      "Total number of Devices avalable before filtering few data point with >2000  = 1211\n",
      "=======================================================================\n",
      "Total number of Devices avalable after filtering few data point with >2000  = 976\n"
     ]
    }
   ],
   "source": [
    "device_id_list = {}\n",
    "ori_count = 0\n",
    "for device_id, df_device_id_region in df_n0.groupby(\"device_id\"):\n",
    "    ori_count += 1\n",
    "    if df_device_id_region.shape[0]>2000:\n",
    "        device_id_list[device_id] = df_device_id_region\n",
    "\n",
    "\n",
    "print(\"=======================================================================\")\n",
    "\n",
    "print (\"Total number of Devices avalable before filtering few data point with >2000  = \" + str(ori_count))   \n",
    "\n",
    "print(\"=======================================================================\")\n",
    "\n",
    "print (\"Total number of Devices avalable after filtering few data point with >2000  =\", len( device_id_list) )\n"
   ]
  },
  {
   "cell_type": "markdown",
   "metadata": {},
   "source": [
    "### Removing Sensors(Devices) with longer time when threshold is set to \"> 8hr\""
   ]
  },
  {
   "cell_type": "code",
   "execution_count": 14,
   "metadata": {},
   "outputs": [
    {
     "name": "stdout",
     "output_type": "stream",
     "text": [
      "=======================================================================\n",
      "Total number of Devices avalable after filtering out devices with a gap  > 8hrs = 756\n"
     ]
    }
   ],
   "source": [
    "\n",
    "print(\"=======================================================================\")\n",
    "device_id_list2 = {}\n",
    "for device_id, df_device_id_region in device_id_list.items():\n",
    "#     print (df_device_id_region)\n",
    "    time_c = pd.to_datetime(df_device_id_region['Time'])\n",
    "    time_c = time_c.dt.hour + time_c.dt.minute/60\n",
    "    \n",
    "    keep_or_not= True\n",
    "    last_time=0\n",
    "    for time_value in time_c:\n",
    "        last_time = time_value if last_time==0 else last_time\n",
    " \n",
    "        if time_value - last_time > 8:\n",
    "#             print (time_value)\n",
    "#             print (last_time)\n",
    "            keep_or_not = False\n",
    "            break\n",
    "        last_time = time_value\n",
    "\n",
    "    if keep_or_not:\n",
    "        device_id_list2[device_id] = df_device_id_region\n",
    "        \n",
    "print (\"Total number of Devices avalable after filtering out devices with a gap  > 8hrs =\", len(device_id_list2))"
   ]
  },
  {
   "cell_type": "markdown",
   "metadata": {},
   "source": [
    "### Data alignment\n",
    "\n",
    "1. For instance, if we want to align the sample rate to 1 record every 10min we can calculate PM2.5 value at 17:04 by using the value at 17:10 and 17:18 at17:20 using interpolation.\n",
    "\n",
    "2. We will filter(drop) out some columns that we are not interested to analyze, such as \"PM10. PM1, Temperature, Humidity\"\n",
    "\n",
    "3. We will  save our new dataset in a new CSV file \n"
   ]
  },
  {
   "cell_type": "code",
   "execution_count": 17,
   "metadata": {
    "collapsed": false,
    "jupyter": {
     "outputs_hidden": false
    }
   },
   "outputs": [],
   "source": [
    "i=0\n",
    "\n",
    "sensor_list=[]\n",
    "\n",
    "for device_id, df_device_id_region in device_id_list2.items():\n",
    "    alignment_frame = df_device_id_region.drop(df_device_id_region.columns[[4,5,6,7]], axis=1)\n",
    "    \n",
    "    time_c = pd.to_datetime(alignment_frame['Time'])\n",
    "    time_c_begin = time_c.dt.hour[time_c.dt.hour.index[0]]\n",
    "    \n",
    "    row_list=[]\n",
    "    for row in range(alignment_frame.shape[0]):\n",
    "        if row in row_list:\n",
    "            continue\n",
    "        pm25_list=[]\n",
    "        now_time = time_c.dt.hour[time_c.dt.hour.index[row]]\n",
    "        alignment_frame.loc[alignment_frame.index[row],['Time']]=now_time\n",
    "        \n",
    "        tmp = row\n",
    "        tmp_row_list=[]\n",
    "        while now_time == time_c_begin:\n",
    "            try: \n",
    "                pm25_list.append(alignment_frame.loc[alignment_frame.index[tmp],['PM2.5']])\n",
    "                tmp_row_list.append(tmp)\n",
    "                tmp=tmp+1\n",
    "                now_time = time_c.dt.hour[time_c.dt.hour.index[tmp]]\n",
    "            except:\n",
    "                break\n",
    "                \n",
    "        if tmp_row_list[1:] != []:\n",
    "            row_list.extend(tmp_row_list[1:])\n",
    "\n",
    "        if pm25_list != []:\n",
    "            try:\n",
    "                avg_pm25 = ( sum(pm25_list)/len(pm25_list))\n",
    "                alignment_frame.loc[alignment_frame.index[row],['PM2.5']] = avg_pm25[0]\n",
    "                time_c_begin = now_time\n",
    "            except:\n",
    "                break\n",
    "    alignment_frame = alignment_frame.drop(alignment_frame.index[row_list], axis=0)\n",
    "    \n",
    "    \n",
    "    for row in range(alignment_frame.shape[0]-1):\n",
    "        now_time = alignment_frame.loc[alignment_frame.index[row],['Time']]\n",
    "        next_time = alignment_frame.loc[alignment_frame.index[row+1],['Time']]\n",
    "        \n",
    "        count = next_time-now_time\n",
    "        \n",
    "        if int(count) != 1 and int(count) != -23:\n",
    "            now_PM25 = alignment_frame.loc[alignment_frame.index[row],['PM2.5']]\n",
    "            next_PM25 = alignment_frame.loc[alignment_frame.index[row+1],['PM2.5']]\n",
    "            \n",
    "            now_PM25= np.array(now_PM25)\n",
    "            next_PM25= np.array(next_PM25)\n",
    "            count = np.array(count)\n",
    "            \n",
    "            alignment_frame.loc[alignment_frame.index[row]+1,['PM2.5']] = ((now_PM25+next_PM25)/count)[0]\n",
    "            alignment_frame.loc[alignment_frame.index[row]+1,['Date']] = alignment_frame.loc[alignment_frame.index[row],['Date']][0]\n",
    "            alignment_frame.loc[alignment_frame.index[row]+1,['Time']] = alignment_frame.loc[alignment_frame.index[row],['Time']][0]+1\n",
    "    \n",
    "    alignment_frame.index = alignment_frame.index+1\n",
    "    alignment_frame = alignment_frame.sort_index()\n",
    "\n",
    "    alignment_frame.to_csv('sensor_%s' %device_id)\n",
    "    \n",
    "    sensor_list.append(device_id)\n",
    "    \n",
    "    i += 1\n",
    "    if i==2:\n",
    "        break"
   ]
  },
  {
   "cell_type": "markdown",
   "metadata": {},
   "source": [
    "## Observation Tasks"
   ]
  },
  {
   "cell_type": "markdown",
   "metadata": {},
   "source": [
    "### Compare sensors\n",
    "\n",
    "We compare this two Sensor1=74DA3895E03E Vs Sensor2=74DA3895E004 obtain at a given 'Date' interval after interpolation to see weather the output is similar\n",
    "\n"
   ]
  },
  {
   "cell_type": "code",
   "execution_count": 15,
   "metadata": {
    "collapsed": false,
    "jupyter": {
     "outputs_hidden": false
    }
   },
   "outputs": [
    {
     "data": {
      "text/html": [
       "<div>\n",
       "<style scoped>\n",
       "    .dataframe tbody tr th:only-of-type {\n",
       "        vertical-align: middle;\n",
       "    }\n",
       "\n",
       "    .dataframe tbody tr th {\n",
       "        vertical-align: top;\n",
       "    }\n",
       "\n",
       "    .dataframe thead th {\n",
       "        text-align: right;\n",
       "    }\n",
       "</style>\n",
       "<table border=\"1\" class=\"dataframe\">\n",
       "  <thead>\n",
       "    <tr style=\"text-align: right;\">\n",
       "      <th></th>\n",
       "      <th>Unnamed: 0</th>\n",
       "      <th>Date</th>\n",
       "      <th>Time</th>\n",
       "      <th>device_id</th>\n",
       "      <th>PM2.5</th>\n",
       "      <th>lat</th>\n",
       "      <th>lon</th>\n",
       "    </tr>\n",
       "  </thead>\n",
       "  <tbody>\n",
       "    <tr>\n",
       "      <th>208</th>\n",
       "      <td>939128</td>\n",
       "      <td>2017-03-10</td>\n",
       "      <td>0</td>\n",
       "      <td>74DA3895E03E</td>\n",
       "      <td>78.500000</td>\n",
       "      <td>22.853</td>\n",
       "      <td>120.546</td>\n",
       "    </tr>\n",
       "    <tr>\n",
       "      <th>209</th>\n",
       "      <td>944147</td>\n",
       "      <td>2017-03-10</td>\n",
       "      <td>1</td>\n",
       "      <td>74DA3895E03E</td>\n",
       "      <td>76.500000</td>\n",
       "      <td>22.853</td>\n",
       "      <td>120.546</td>\n",
       "    </tr>\n",
       "    <tr>\n",
       "      <th>210</th>\n",
       "      <td>949581</td>\n",
       "      <td>2017-03-10</td>\n",
       "      <td>2</td>\n",
       "      <td>74DA3895E03E</td>\n",
       "      <td>75.000000</td>\n",
       "      <td>22.853</td>\n",
       "      <td>120.546</td>\n",
       "    </tr>\n",
       "    <tr>\n",
       "      <th>211</th>\n",
       "      <td>953836</td>\n",
       "      <td>2017-03-10</td>\n",
       "      <td>3</td>\n",
       "      <td>74DA3895E03E</td>\n",
       "      <td>77.333333</td>\n",
       "      <td>22.853</td>\n",
       "      <td>120.546</td>\n",
       "    </tr>\n",
       "    <tr>\n",
       "      <th>212</th>\n",
       "      <td>957928</td>\n",
       "      <td>2017-03-10</td>\n",
       "      <td>4</td>\n",
       "      <td>74DA3895E03E</td>\n",
       "      <td>77.857143</td>\n",
       "      <td>22.853</td>\n",
       "      <td>120.546</td>\n",
       "    </tr>\n",
       "  </tbody>\n",
       "</table>\n",
       "</div>"
      ],
      "text/plain": [
       "     Unnamed: 0        Date  Time     device_id      PM2.5     lat      lon\n",
       "208      939128  2017-03-10     0  74DA3895E03E  78.500000  22.853  120.546\n",
       "209      944147  2017-03-10     1  74DA3895E03E  76.500000  22.853  120.546\n",
       "210      949581  2017-03-10     2  74DA3895E03E  75.000000  22.853  120.546\n",
       "211      953836  2017-03-10     3  74DA3895E03E  77.333333  22.853  120.546\n",
       "212      957928  2017-03-10     4  74DA3895E03E  77.857143  22.853  120.546"
      ]
     },
     "execution_count": 15,
     "metadata": {},
     "output_type": "execute_result"
    }
   ],
   "source": [
    "sensor1 = pd.read_csv(\"sensor_74DA3895E03E\")\n",
    "\n",
    "sensor1_2017_03_10 = sensor1.loc[sensor1['Date'] == '2017-03-10']\n",
    "\n",
    "sensor1_2017_03_10.head()"
   ]
  },
  {
   "cell_type": "code",
   "execution_count": 16,
   "metadata": {},
   "outputs": [
    {
     "data": {
      "text/html": [
       "<div>\n",
       "<style scoped>\n",
       "    .dataframe tbody tr th:only-of-type {\n",
       "        vertical-align: middle;\n",
       "    }\n",
       "\n",
       "    .dataframe tbody tr th {\n",
       "        vertical-align: top;\n",
       "    }\n",
       "\n",
       "    .dataframe thead th {\n",
       "        text-align: right;\n",
       "    }\n",
       "</style>\n",
       "<table border=\"1\" class=\"dataframe\">\n",
       "  <thead>\n",
       "    <tr style=\"text-align: right;\">\n",
       "      <th></th>\n",
       "      <th>Unnamed: 0</th>\n",
       "      <th>Date</th>\n",
       "      <th>Time</th>\n",
       "      <th>device_id</th>\n",
       "      <th>PM2.5</th>\n",
       "      <th>lat</th>\n",
       "      <th>lon</th>\n",
       "    </tr>\n",
       "  </thead>\n",
       "  <tbody>\n",
       "    <tr>\n",
       "      <th>208</th>\n",
       "      <td>939802</td>\n",
       "      <td>2017-03-10</td>\n",
       "      <td>0</td>\n",
       "      <td>74DA3895E004</td>\n",
       "      <td>93.00</td>\n",
       "      <td>23.012</td>\n",
       "      <td>120.217</td>\n",
       "    </tr>\n",
       "    <tr>\n",
       "      <th>209</th>\n",
       "      <td>944832</td>\n",
       "      <td>2017-03-10</td>\n",
       "      <td>1</td>\n",
       "      <td>74DA3895E004</td>\n",
       "      <td>86.00</td>\n",
       "      <td>23.012</td>\n",
       "      <td>120.217</td>\n",
       "    </tr>\n",
       "    <tr>\n",
       "      <th>210</th>\n",
       "      <td>949905</td>\n",
       "      <td>2017-03-10</td>\n",
       "      <td>2</td>\n",
       "      <td>74DA3895E004</td>\n",
       "      <td>86.75</td>\n",
       "      <td>23.012</td>\n",
       "      <td>120.217</td>\n",
       "    </tr>\n",
       "    <tr>\n",
       "      <th>211</th>\n",
       "      <td>954984</td>\n",
       "      <td>2017-03-10</td>\n",
       "      <td>3</td>\n",
       "      <td>74DA3895E004</td>\n",
       "      <td>97.00</td>\n",
       "      <td>23.012</td>\n",
       "      <td>120.217</td>\n",
       "    </tr>\n",
       "    <tr>\n",
       "      <th>212</th>\n",
       "      <td>960073</td>\n",
       "      <td>2017-03-10</td>\n",
       "      <td>4</td>\n",
       "      <td>74DA3895E004</td>\n",
       "      <td>98.50</td>\n",
       "      <td>23.012</td>\n",
       "      <td>120.217</td>\n",
       "    </tr>\n",
       "  </tbody>\n",
       "</table>\n",
       "</div>"
      ],
      "text/plain": [
       "     Unnamed: 0        Date  Time     device_id  PM2.5     lat      lon\n",
       "208      939802  2017-03-10     0  74DA3895E004  93.00  23.012  120.217\n",
       "209      944832  2017-03-10     1  74DA3895E004  86.00  23.012  120.217\n",
       "210      949905  2017-03-10     2  74DA3895E004  86.75  23.012  120.217\n",
       "211      954984  2017-03-10     3  74DA3895E004  97.00  23.012  120.217\n",
       "212      960073  2017-03-10     4  74DA3895E004  98.50  23.012  120.217"
      ]
     },
     "execution_count": 16,
     "metadata": {},
     "output_type": "execute_result"
    }
   ],
   "source": [
    "sensor2 = pd.read_csv(\"sensor_74DA3895E004\")\n",
    "\n",
    "sensor2_2017_03_10 = sensor2.loc[sensor2['Date'] == '2017-03-10']\n",
    "\n",
    "sensor2_2017_03_10.head()"
   ]
  },
  {
   "cell_type": "markdown",
   "metadata": {},
   "source": [
    "### Interesting Observation\n",
    "\n",
    "\n",
    "It can be observed that sensor1 and sensor2 have the almost has similar trend. In the early morning and at night, we can observe higher PM2.5 value during the day from starting from 1000(10a.m) it starts showing slow down it 1500(3p.m). However one of the sensor rises to the peak in the evening, and the other at night. Maybe the difference in the peak is lead different timing during the rush hour. For instance people move together in the morning when going to work but closing time some might stay late due to overtime that's what might result to differnt peak during the evening.\n",
    "\n"
   ]
  },
  {
   "cell_type": "code",
   "execution_count": 12,
   "metadata": {
    "collapsed": false,
    "jupyter": {
     "outputs_hidden": false
    }
   },
   "outputs": [
    {
     "data": {
      "image/png": "[encoded data removed]",
      "text/plain": [
       "<Figure size 432x288 with 1 Axes>"
      ]
     },
     "metadata": {},
     "output_type": "display_data"
    }
   ],
   "source": [
    "import matplotlib.pyplot as plt\n",
    "\n",
    "s1PM25 = np.array(sensor1_2017_03_10['PM2.5'])\n",
    "s2PM25 = np.array(sensor2_2017_03_10['PM2.5'])\n",
    "time = np.array(sensor1_2017_03_10['Time'])\n",
    "\n",
    "plt.plot(time,s1PM25,time, s2PM25)\n",
    "plt.xlabel('hours')\n",
    "plt.ylabel('PM2.5')\n",
    "\n",
    "plt.show()\n"
   ]
  },
  {
   "cell_type": "markdown",
   "metadata": {},
   "source": [
    "### Plot sensor map\n",
    " We plot all the Sensors on the map by importing our data into map visualization tools  (https://www.gpsvisualizer.com/map_input?form=data and google map) to know the location of some sensors. Based on the visualization on the map we can observe that most of the sensors are mainly located at Taiwan, with some in Japan, South Korea, Malaysia, and even in India. "
   ]
  },
  {
   "cell_type": "code",
   "execution_count": 49,
   "metadata": {
    "collapsed": false,
    "jupyter": {
     "outputs_hidden": false
    }
   },
   "outputs": [],
   "source": [
    "sensor_gps = pd.DataFrame(columns=['lat','lon'])\n",
    "for device_id, df_device_id_region in device_id_list2.items():\n",
    "\n",
    "    lat = df_device_id_region.loc[df_device_id_region.index[0],[' lat']]\n",
    "    lon = df_device_id_region.loc[df_device_id_region.index[0],[' lon']]\n",
    "    \n",
    "    lat = lat.values[0]\n",
    "    lon = lon.values[0]\n",
    "\n",
    "    sensor_gps.loc[device_id] = [lat,lon]\n",
    "\n",
    "sensor_gps.to_csv('sensor_gps', index=False)"
   ]
  },
  {
   "cell_type": "markdown",
   "metadata": {},
   "source": [
    "![title](gps.PNG \"ShowMyImage\")"
   ]
  },
  {
   "cell_type": "markdown",
   "metadata": {},
   "source": [
    "### The command below shows the sensor locations on the on google map"
   ]
  },
  {
   "cell_type": "code",
   "execution_count": 35,
   "metadata": {},
   "outputs": [
    {
     "data": {
      "text/plain": [
       "True"
      ]
     },
     "execution_count": 35,
     "metadata": {},
     "output_type": "execute_result"
    }
   ],
   "source": [
    "from webbrowser import open\n",
    "open(\"https://drive.google.com/open?id=12iLOaTSyL9ASRcaGAfIrK6mJX_5uEXc9&usp=sh\" )"
   ]
  },
  {
   "cell_type": "markdown",
   "metadata": {},
   "source": [
    "### 3. QueryTask\n",
    "        A. How Many sensors are there in the the dataset?\n",
    "        \n",
    "        B. Which sensor recorded the highest temperature:\n",
    "            i.  In March?\n",
    "            ii. Where is the sensor located?\n",
    "            \n",
    "        C. What sensor has the maximal PM2.5 values on 3/5?\n",
    "        "
   ]
  },
  {
   "cell_type": "code",
   "execution_count": 20,
   "metadata": {
    "collapsed": false,
    "jupyter": {
     "outputs_hidden": false
    }
   },
   "outputs": [
    {
     "name": "stdout",
     "output_type": "stream",
     "text": [
      "Number of Sensors =  756\n",
      "Maximum temperature in March = 52.25 Degrees\n",
      "Latitude = 22.669 : Longitute = 120.3\n",
      "Sensor ID74DA3895DFB2 has the maximal PM2.5 values on 3/5\n"
     ]
    }
   ],
   "source": [
    "max_temp = 0\n",
    "sen_lat = 0\n",
    "sen_lon = 0\n",
    "sen_tem_id = ''\n",
    "\n",
    "columns=['device_id', 'PM2.5']\n",
    "sensor_PM25= pd.DataFrame(columns=columns)\n",
    "\n",
    "index=0\n",
    "for device_id, df_device_id_region in device_id_list2.items():\n",
    "    \n",
    "    if df_device_id_region['Temperature'].values.max() > max_temp:\n",
    "        max_temp = df_device_id_region['Temperature'].values.max()\n",
    "        sen_lat = df_device_id_region[' lat'].values[0]\n",
    "        sen_lon = df_device_id_region[' lon'].values[0]\n",
    "        sen_tem_id = df_device_id_region['device_id'].values[0]\n",
    "        \n",
    "    \n",
    "    sensor_PM25.loc[index] = [device_id, df_device_id_region.loc[df_device_id_region['Date'] == '2017-03-05']['PM2.5'].max()]\n",
    "    \n",
    "    index=index+1    \n",
    "\n",
    "print (\"Number of Sensors = \", len(sensor_PM25)) \n",
    "print (\"Maximum temperature in March = \" + str(max_temp) + ' Degrees')\n",
    "print (\"Latitude = \" + str(sen_lat ) , \": Longitute = \" + str(sen_lon))\n",
    "#print ( \"longitute = \" + str(sen_lon))\n",
    "print (\"Sensor ID\" + sen_tem_id + \" has the maximal PM2.5 values on 3/5\" )\n",
    "\n"
   ]
  },
  {
   "cell_type": "markdown",
   "metadata": {},
   "source": [
    "### 3. Time Series Data Comparsion Task\n",
    "        We will compare two sensor data on 2017-3-10  and observe \n",
    "        the PM2.5 in diferent use Contition.   \n",
    "        For, instance considering. \n",
    "             1. Q: Sequence from Sensor 1.\n",
    "             2. C: Sequence from Sensor 2.\n",
    "             3. Distance(Q,C): Distance between Q & C.\n",
    "             \n",
    "        \n"
   ]
  },
  {
   "cell_type": "code",
   "execution_count": 21,
   "metadata": {
    "collapsed": false,
    "jupyter": {
     "outputs_hidden": false
    }
   },
   "outputs": [
    {
     "data": {
      "image/png": "[encoded data removed]",
      "text/plain": [
       "<Figure size 432x288 with 1 Axes>"
      ]
     },
     "metadata": {},
     "output_type": "display_data"
    },
    {
     "name": "stdout",
     "output_type": "stream",
     "text": [
      "Euclidean Distance between Q & C is = 148.71696475713847\n"
     ]
    }
   ],
   "source": [
    "from math import sqrt\n",
    "def euclidean_distance(A,B):\n",
    "    return sqrt( sum (  (a-b)**2 for a,b in zip(A,B)  ) )\n",
    "\n",
    "\n",
    "Q = sensor1.loc[sensor1['Date'] == '2017-03-10']['PM2.5']\n",
    "C = sensor2.loc[sensor2['Date'] == '2017-03-10']['PM2.5']\n",
    "\n",
    "Q_ori = np.array(Q)\n",
    "C_ori = np.array(C)\n",
    "time = np.array(sensor1.loc[sensor1['Date'] == '2017-03-10']['Time'])\n",
    "\n",
    "plt.plot(time, Q_ori, time, C_ori)\n",
    "plt.xlabel('hours')\n",
    "plt.ylabel('PM2.5')\n",
    "\n",
    "plt.show()\n",
    "\n",
    "print (\"Euclidean Distance between Q & C is = %s\" %euclidean_distance(Q_ori ,C_ori))"
   ]
  },
  {
   "cell_type": "markdown",
   "metadata": {},
   "source": [
    "\n",
    "\n",
    "### Offset Translation\n",
    "\n",
    "       A. Offset Translation.\n",
    "           Q = Q - mean(Q), C = C - Mean(C).\n",
    "           \n",
    " The plot shows that the distance between the two points are getting little bit closer.\n",
    "           "
   ]
  },
  {
   "cell_type": "code",
   "execution_count": 22,
   "metadata": {
    "collapsed": false,
    "jupyter": {
     "outputs_hidden": false
    }
   },
   "outputs": [
    {
     "data": {
      "image/png": "[encoded data removed]",
      "text/plain": [
       "<Figure size 432x288 with 1 Axes>"
      ]
     },
     "metadata": {},
     "output_type": "display_data"
    },
    {
     "name": "stdout",
     "output_type": "stream",
     "text": [
      "Euclidean Distance for the Offset Translation is = 146.26725623770773\n"
     ]
    }
   ],
   "source": [
    "def offset_translation(sequence):\n",
    "    mean = sum(sequence)/len(sequence)\n",
    "    return sequence-mean\n",
    "\n",
    "Q_offset = np.array(offset_translation(Q))\n",
    "C_offset = np.array(offset_translation(C))\n",
    "\n",
    "time = np.array(sensor1.loc[sensor1['Date'] == '2017-03-10']['Time'])\n",
    "\n",
    "plt.plot(time, Q_offset, time, C_offset)\n",
    "plt.xlabel('hours')\n",
    "plt.ylabel('PM2.5')\n",
    "\n",
    "plt.show()\n",
    "\n",
    "print (\"Euclidean Distance for the Offset Translation is = %s\" %euclidean_distance(Q_offset ,C_offset))"
   ]
  },
  {
   "cell_type": "markdown",
   "metadata": {},
   "source": [
    "\n",
    "### Amplitude Scaling\n",
    "\n",
    "      B. Amplitude Scaling.\n",
    "            Q = ( Q - mean(Q))/std(Q), C = (C - Mean(C))/std(C).\n",
    "            \n",
    "Distance drops significantly from 148.7 to 6.1 when we apply amplitute scaling          "
   ]
  },
  {
   "cell_type": "code",
   "execution_count": 23,
   "metadata": {
    "collapsed": false,
    "jupyter": {
     "outputs_hidden": false
    }
   },
   "outputs": [
    {
     "data": {
      "image/png": "[encoded data removed]",
      "text/plain": [
       "<Figure size 432x288 with 1 Axes>"
      ]
     },
     "metadata": {},
     "output_type": "display_data"
    },
    {
     "name": "stdout",
     "output_type": "stream",
     "text": [
      "Euclidean Distance for Amplitude Scaling is = 6.125405142709108\n"
     ]
    }
   ],
   "source": [
    "from sklearn.preprocessing import StandardScaler\n",
    "\n",
    "def amplitude_scaling(sequence):\n",
    "    mean = sum(sequence)/len(sequence)\n",
    "    std = np.std(sequence)\n",
    "    return (sequence-mean)/std\n",
    "\n",
    "Q_amplitude = np.array(amplitude_scaling(Q))\n",
    "C_amplitude = np.array(amplitude_scaling(C))\n",
    "\n",
    "time = np.array(sensor1.loc[sensor1['Date'] == '2017-03-10']['Time'])\n",
    "\n",
    "plt.plot(time, Q_amplitude, time, C_amplitude)\n",
    "plt.xlabel('hours')\n",
    "plt.ylabel('PM2.5')\n",
    "\n",
    "plt.show()\n",
    "\n",
    "print (\"Euclidean Distance for Amplitude Scaling is = %s\" %euclidean_distance(Q_amplitude ,C_amplitude))"
   ]
  },
  {
   "cell_type": "markdown",
   "metadata": {},
   "source": [
    "### Linear Trend Removal\n",
    "           Q = detrend(Q), C = detrend(C).\n",
    "           \n",
    "      \n",
    "\n",
    "\n",
    "\n"
   ]
  },
  {
   "cell_type": "code",
   "execution_count": 24,
   "metadata": {
    "collapsed": false,
    "jupyter": {
     "outputs_hidden": false
    }
   },
   "outputs": [
    {
     "data": {
      "image/png": "[encoded data removed]",
      "text/plain": [
       "<Figure size 432x288 with 1 Axes>"
      ]
     },
     "metadata": {},
     "output_type": "display_data"
    },
    {
     "name": "stdout",
     "output_type": "stream",
     "text": [
      "Euclidean_distance= 130.6034062199002\n",
      "------------------------------------------------------------------------\n",
      "We Apply linear regression model from Sklearn learn and fit our data to compare the distance relationship between the two sensors \n",
      " fItting we can observe a significan improvment on the distance relationship from '148' to '130' \n"
     ]
    }
   ],
   "source": [
    "from sklearn import datasets, linear_model\n",
    "def linear_trend_removel(sequence):\n",
    "    regr = linear_model.LinearRegression()\n",
    "    x = np.arange(24)[:,np.newaxis]\n",
    "    y = np.array(sequence)[:,np.newaxis]\n",
    "    regr.fit( x, y)\n",
    "    line =  np.array(list( map(lambda x: regr.predict(x), np.arange(24)) ))[:,0,0]\n",
    "    return sequence - line\n",
    "#lin_reg_2.predict(poly_reg.fit_transform([[6.5]]))\n",
    "#lin_reg_2.predict(np.array([6.5]).reshape(1, 1))\n",
    "    \n",
    "Q_linear_tr = np.array(linear_trend_removel(Q))\n",
    "C_linear_tr = np.array(linear_trend_removel(C))\n",
    "\n",
    "time = np.array(sensor1.loc[sensor1['Date'] == '2017-03-10']['Time'])\n",
    "\n",
    "plt.plot(time, Q_linear_tr, time, C_linear_tr)\n",
    "plt.xlabel('hours')\n",
    "plt.ylabel('PM2.5')\n",
    "\n",
    "plt.show()\n",
    "\n",
    "print (\"Euclidean_distance= %s\" %euclidean_distance(Q_linear_tr ,C_linear_tr))\n",
    "\n",
    "print(\"------------------------------------------------------------------------\")\n",
    "\n",
    "print(\"We Apply linear regression model from Sklearn learn and fit our data to compare the distance relationship between the two sensors \\n fItting we can observe a significan improvment on the distance relationship from '148' to '130' \")"
   ]
  },
  {
   "cell_type": "markdown",
   "metadata": {},
   "source": [
    "### Noise Removal\n",
    "\n",
    "         Q = smooth(Q), C = smooth(C).\n",
    "           "
   ]
  },
  {
   "cell_type": "code",
   "execution_count": 25,
   "metadata": {
    "collapsed": false,
    "jupyter": {
     "outputs_hidden": false
    }
   },
   "outputs": [
    {
     "data": {
      "image/png": "[encoded data removed]",
      "text/plain": [
       "<Figure size 432x288 with 1 Axes>"
      ]
     },
     "metadata": {},
     "output_type": "display_data"
    },
    {
     "name": "stdout",
     "output_type": "stream",
     "text": [
      "Euclidean_distance= 124.40368418813713\n",
      "-------------------------------------------------------------------------------\n",
      "We apply this fitting to balance the 'LEFT' and 'RIGHT' Neighor\n"
     ]
    }
   ],
   "source": [
    "def noise_removal(sequence):\n",
    "    sequence = np.array(sequence)\n",
    "    new_sequence = []\n",
    "    for index, number in enumerate(sequence):\n",
    "        if index == 0:\n",
    "            new_sequence.append( (number+sequence[index+1])/2 )\n",
    "        elif index == len(sequence)-1:\n",
    "            new_sequence.append( (number+sequence[index-1])/2 )\n",
    "        else:\n",
    "            new_sequence.append((number+sequence[index+1]+sequence[index-1])/3 ) \n",
    "    return new_sequence\n",
    "\n",
    "Q_noise_removal = np.array(noise_removal(Q))\n",
    "C_noise_removal = np.array(noise_removal(C))\n",
    "\n",
    "\n",
    "time = np.array(sensor1.loc[sensor1['Date'] == '2017-03-10']['Time'])\n",
    "\n",
    "plt.plot(time, Q_noise_removal, time, C_noise_removal)\n",
    "plt.xlabel('hours')\n",
    "plt.ylabel('PM2.5')\n",
    "\n",
    "plt.show()\n",
    "\n",
    "print (\"Euclidean_distance= %s\" %euclidean_distance(Q_noise_removal ,C_noise_removal))\n",
    "\n",
    "print (\"-------------------------------------------------------------------------------\")\n",
    "\n",
    "print (\"We apply this fitting to balance the 'LEFT' and 'RIGHT' Neighor\")"
   ]
  },
  {
   "cell_type": "markdown",
   "metadata": {},
   "source": [
    "### Calculate Distance(Q,C) at each step, and compare the difference between original data and transformed it.\n",
    "  \n",
    "      We therefore apply the formular below:\n",
    "  \n",
    "           Amplitude Scaling + Linear Trend Removal + Noise Removal\n"
   ]
  },
  {
   "cell_type": "code",
   "execution_count": 28,
   "metadata": {
    "collapsed": false,
    "jupyter": {
     "outputs_hidden": false
    }
   },
   "outputs": [
    {
     "data": {
      "image/png": "[encoded data removed]",
      "text/plain": [
       "<Figure size 432x288 with 1 Axes>"
      ]
     },
     "metadata": {},
     "output_type": "display_data"
    },
    {
     "name": "stdout",
     "output_type": "stream",
     "text": [
      "Euclidean_distance= 4.568454860041959\n",
      "--------------------------------------------------------------\n",
      "After we calculate distance from each step as stated we can observe that \n",
      " The distance relation become closer compare to Amplitude Scaling \n"
     ]
    }
   ],
   "source": [
    "Q_final = np.array(noise_removal(linear_trend_removel(amplitude_scaling(Q))))\n",
    "C_final = np.array(noise_removal(linear_trend_removel(amplitude_scaling(C))))\n",
    "\n",
    "\n",
    "time = np.array(sensor1.loc[sensor1['Date'] == '2017-03-10']['Time'])\n",
    "\n",
    "plt.plot(time, Q_final, time, C_final)\n",
    "plt.xlabel('hours')\n",
    "plt.ylabel('PM2.5')\n",
    "\n",
    "plt.show()\n",
    "\n",
    "print (\"Euclidean_distance= %s\" %euclidean_distance(Q_final ,C_final))\n",
    "\n",
    "print(\"--------------------------------------------------------------\")\n",
    "\n",
    "print(\"After we calculate distance from each step as stated we can observe that \\n The distance relation become closer compare to Amplitude Scaling \")"
   ]
  },
  {
   "cell_type": "markdown",
   "metadata": {},
   "source": [
    "### I will do my best to publish one project in data mining every month using PM2.5 Dataset\n",
    "\n",
    "### Next project will be using the ASSOCIATION RULE Mining Technique on the same dataset"
   ]
  }
 ],
 "metadata": {
  "anaconda-cloud": {},
  "kernelspec": {
   "display_name": "Python 3",
   "language": "python",
   "name": "python3"
  },
  "language_info": {
   "codemirror_mode": {
    "name": "ipython",
    "version": 3
   },
   "file_extension": ".py",
   "mimetype": "text/x-python",
   "name": "python",
   "nbconvert_exporter": "python",
   "pygments_lexer": "ipython3",
   "version": "3.6.5"
  }
 },
 "nbformat": 4,
 "nbformat_minor": 4
}
